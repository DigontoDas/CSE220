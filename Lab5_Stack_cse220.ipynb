{
  "cells": [
    {
      "cell_type": "code",
      "execution_count": null,
      "metadata": {
        "colab": {
          "background_save": true,
          "base_uri": "https://localhost:8080/"
        },
        "id": "BLfLeW_0cACI",
        "outputId": "6270e603-48ae-4836-b249-e081bfa3411d"
      },
      "outputs": [
        {
          "name": "stdout",
          "output_type": "stream",
          "text": [
            "Collecting fhm-unittest\n",
            "  Downloading fhm_unittest-1.0.1-py3-none-any.whl (2.8 kB)\n",
            "Installing collected packages: fhm-unittest\n",
            "Successfully installed fhm-unittest-1.0.1\n",
            "Collecting fuzzywuzzy\n",
            "  Downloading fuzzywuzzy-0.18.0-py2.py3-none-any.whl (18 kB)\n",
            "Installing collected packages: fuzzywuzzy\n",
            "Successfully installed fuzzywuzzy-0.18.0\n"
          ]
        },
        {
          "name": "stderr",
          "output_type": "stream",
          "text": [
            "/usr/local/lib/python3.10/dist-packages/fuzzywuzzy/fuzz.py:11: UserWarning: Using slow pure-python SequenceMatcher. Install python-Levenshtein to remove this warning\n",
            "  warnings.warn('Using slow pure-python SequenceMatcher. Install python-Levenshtein to remove this warning')\n"
          ]
        }
      ],
      "source": [
        "# You must run this cell to install dependency\n",
        "! pip3 install fhm-unittest\n",
        "! pip3 install fuzzywuzzy\n",
        "import fhm_unittest as unittest\n",
        "import numpy as np"
      ]
    },
    {
      "cell_type": "markdown",
      "metadata": {
        "id": "QVD5nPVKckgE"
      },
      "source": [
        "Implement the Stack class first"
      ]
    },
    {
      "cell_type": "markdown",
      "metadata": {
        "id": "0XW_lxvto7Q5"
      },
      "source": [
        "Take help from this [stack note](https://docs.google.com/document/d/1SAdvXigDtA5tIkk7Fs1wGs9-hEROYUBOY1v6VxBpU60/edit?usp=sharing)\n",
        "\n"
      ]
    },
    {
      "cell_type": "code",
      "execution_count": null,
      "metadata": {
        "colab": {
          "background_save": true
        },
        "id": "Qce1WOLmbu9R"
      },
      "outputs": [],
      "source": [
        "class Node:\n",
        "  def __init__(self,elem=None,next=None):\n",
        "    self.elem = elem\n",
        "    self.next = next\n",
        "\n",
        "class Stack:\n",
        "  def __init__(self):\n",
        "    self.__top = None\n",
        "\n",
        "  def push(self,elem):\n",
        "    if self.__top==None:\n",
        "      self.__top=Node(elem,None)\n",
        "    else:\n",
        "      newNode=Node(elem,None)\n",
        "      newNode.next=self.__top\n",
        "      self.__top=newNode\n",
        "\n",
        "\n",
        "  def pop(self):\n",
        "    if self.__top==None:\n",
        "      return None\n",
        "    else:\n",
        "      popped=self.__top\n",
        "      self.__top=self.__top.next\n",
        "      popped.next=None\n",
        "      return popped.elem\n",
        "\n",
        "\n",
        "  def peek(self):\n",
        "    if self.__top==None:\n",
        "      return None\n",
        "    else:\n",
        "      return self.__top.elem\n",
        "  def isEmpty(self):\n",
        "    if self.__top==None:\n",
        "      return True\n",
        "    else:\n",
        "      return False\n"
      ]
    },
    {
      "cell_type": "code",
      "execution_count": null,
      "metadata": {
        "colab": {
          "base_uri": "https://localhost:8080/"
        },
        "id": "L7iKoojZcDX1",
        "outputId": "3b1e92bc-9f54-4fbf-b2fd-af8b8a7a4a81"
      },
      "outputs": [
        {
          "name": "stdout",
          "output_type": "stream",
          "text": [
            "Peeked Element:  9\n",
            "Popped Element:  9\n",
            "Popped Element:  1\n",
            "Popped Element:  5\n",
            "Peeked Element:  3\n",
            "Popped Element:  3\n",
            "Popped Element:  4\n",
            "Peeked Element:  None\n",
            "Popped Element:  None\n",
            "True\n"
          ]
        }
      ],
      "source": [
        "st = Stack()\n",
        "st.push(4)\n",
        "st.push(3)\n",
        "st.push(5)\n",
        "st.push(1)\n",
        "st.push(9)\n",
        "\n",
        "\n",
        "print('Peeked Element: ',st.peek()) #This should print 9\n",
        "print('Popped Element: ',st.pop()) #This should print 9\n",
        "print('Popped Element: ',st.pop()) #This should print 1\n",
        "print('Popped Element: ',st.pop()) #This should print 5\n",
        "print('Peeked Element: ',st.peek()) #This should print 3\n",
        "print('Popped Element: ',st.pop()) #This should print 3\n",
        "print('Popped Element: ',st.pop()) #This should print 4\n",
        "print('Peeked Element: ',st.peek()) #This should print None\n",
        "print('Popped Element: ',st.pop()) #This should print None\n",
        "print(st.isEmpty()) #This should print True"
      ]
    },
    {
      "cell_type": "markdown",
      "metadata": {
        "id": "QqGlPO8Ic7kK"
      },
      "source": [
        "You can print your stack using this code segment"
      ]
    },
    {
      "cell_type": "code",
      "execution_count": null,
      "metadata": {
        "id": "0nM-nMGCcIJX"
      },
      "outputs": [],
      "source": [
        "def print_stack(st):\n",
        "  if st.isEmpty():\n",
        "    return\n",
        "  p = st.pop()\n",
        "  print('|',p,end=' ')\n",
        "  if p<10:\n",
        "    print(' |')\n",
        "  else:\n",
        "    print('|')\n",
        "  #print('------')\n",
        "  print_stack(st)\n",
        "  st.push(p)\n",
        "\n",
        "# st = Stack()\n",
        "# st.push(4)\n",
        "# st.push(3)\n",
        "# st.push(5)\n",
        "# st.push(1)\n",
        "# st.push(9)\n",
        "# print_stack(st)\n",
        "# print('------')"
      ]
    },
    {
      "cell_type": "markdown",
      "metadata": {
        "id": "OFq5wTZehLh4"
      },
      "source": [
        "Task 1: Parenthesis Balancing:"
      ]
    },
    {
      "cell_type": "code",
      "execution_count": null,
      "metadata": {
        "colab": {
          "base_uri": "https://localhost:8080/"
        },
        "id": "fPTZmWXtdPv7",
        "outputId": "056af5da-b6f7-4e6a-923a-bbc06029ddea"
      },
      "outputs": [
        {
          "name": "stdout",
          "output_type": "stream",
          "text": [
            "Balanced\n",
            "Accepted\n",
            "-----------------------------------------\n",
            "Test 02\n",
            "Unbalanced\n",
            "Accepted\n",
            "-----------------------------------------\n",
            "Test 03\n",
            "Unbalanced\n",
            "Accepted\n",
            "-----------------------------------------\n",
            "Test 04\n",
            "Unbalanced\n",
            "Accepted\n",
            "-----------------------------------------\n",
            "Test 05\n",
            "Balanced\n",
            "Accepted\n",
            "-----------------------------------------\n"
          ]
        }
      ],
      "source": [
        "def balance_parenthesis(string):\n",
        " stk=Stack()\n",
        " for char in string:\n",
        "  if char in \"[{(\":\n",
        "    stk.push(char)\n",
        "  elif char in \")}]\":\n",
        "      if char == ']' and stk.peek() == '[':\n",
        "        stk.pop()\n",
        "      elif char == '}' and stk.peek() == '{':\n",
        "        stk.pop()\n",
        "      elif char == ')' and stk.peek() == '(':\n",
        "        stk.pop()\n",
        "      else:\n",
        "        return False\n",
        " if stk.isEmpty():\n",
        "   return True\n",
        "   #If the stack is empty, it means that all the opening brackets were-\n",
        "   #matched with their corresponding closing brackets,\n",
        "   #resulting in a balanced expression.\n",
        " else:\n",
        "   return False\n",
        "s = '1+2*(3/4)'\n",
        "returned_value = balance_parenthesis(s)\n",
        "print('Balanced') if returned_value else print('Unbalanced') #This should print Balanced\n",
        "unittest.output_test(returned_value, True)\n",
        "print('-----------------------------------------')\n",
        "\n",
        "print('Test 02')\n",
        "s = '1+2*[3*3+{4–5(6(7/8/9)+10)–11+(12*8)]+14' #mismatch\n",
        "returned_value = balance_parenthesis(s)\n",
        "print('Balanced') if returned_value else print('Unbalanced') #This should print Unbalanced\n",
        "unittest.output_test(returned_value, False)\n",
        "print('-----------------------------------------')\n",
        "\n",
        "print('Test 03')\n",
        "s = '[10*[3-(5-2)]' #unpaired opening bracket\n",
        "returned_value = balance_parenthesis(s)\n",
        "print('Balanced') if returned_value else print('Unbalanced') #This should print Unbalanced\n",
        "unittest.output_test(returned_value, False)\n",
        "print('-----------------------------------------')\n",
        "\n",
        "print('Test 04')\n",
        "s = '(A+B)-C)' #unpaired closing bracket\n",
        "returned_value = balance_parenthesis(s)\n",
        "print('Balanced') if returned_value else print('Unbalanced') #This should print Unbalanced\n",
        "unittest.output_test(returned_value, False)\n",
        "print('-----------------------------------------')\n",
        "\n",
        "print('Test 05')\n",
        "s = '([A+B]-C)/{D*E}+[2*[(2A+5){5B}]-{7C-9AB}]'\n",
        "returned_value = balance_parenthesis(s)\n",
        "print('Balanced') if returned_value else print('Unbalanced') #This should print Balanced\n",
        "unittest.output_test(returned_value, True)\n",
        "print('-----------------------------------------')\n"
      ]
    },
    {
      "cell_type": "markdown",
      "metadata": {
        "id": "i2LySc-6l0Cs"
      },
      "source": [
        "Task 2: Diamond Count"
      ]
    },
    {
      "cell_type": "code",
      "execution_count": null,
      "metadata": {
        "colab": {
          "base_uri": "https://localhost:8080/"
        },
        "id": "CxGFyO8PeMSz",
        "outputId": "ab878bb1-a892-4d65-c585-6f2d487cfdaf"
      },
      "outputs": [
        {
          "name": "stdout",
          "output_type": "stream",
          "text": [
            "Test 01\n",
            "Number of Diamonds: 3\n",
            "Accepted\n",
            "-----------------------------------------\n",
            "Test 02\n",
            "Number of Diamonds: 1\n",
            "Accepted\n",
            "-----------------------------------------\n",
            "Test 03\n",
            "Number of Diamonds: 3\n",
            "Accepted\n",
            "-----------------------------------------\n"
          ]
        }
      ],
      "source": [
        "def diamond_count(stack,string):\n",
        "  count=0\n",
        "  for char in string:\n",
        "    if char==\"<\":\n",
        "      stack.push(char)\n",
        "    elif char==\">\":\n",
        "      if char==\">\" and stack.pop()==\"<\":\n",
        "        count+=1\n",
        "  return count\n",
        "\n",
        "\n",
        "\n",
        "\n",
        "print('Test 01')\n",
        "stack = Stack()\n",
        "string = '<..><.<..>> '\n",
        "returned_value = diamond_count(stack,string)\n",
        "print(f'Number of Diamonds: {returned_value}') #This should print 3\n",
        "unittest.output_test(returned_value, 3)\n",
        "print('-----------------------------------------')\n",
        "\n",
        "\n",
        "print('Test 02')\n",
        "stack = Stack()\n",
        "string = '<<<..<......<<<<....>'\n",
        "returned_value = diamond_count(stack,string)\n",
        "print(f'Number of Diamonds: {returned_value}') #This should print 1\n",
        "unittest.output_test(returned_value, 1)\n",
        "print('-----------------------------------------')\n",
        "\n",
        "\n",
        "print('Test 03')\n",
        "stack = Stack()\n",
        "string = '>>><...<<..>>...>...>>>'\n",
        "returned_value = diamond_count(stack,string)\n",
        "print(f'Number of Diamonds: {returned_value}') #This should print 3\n",
        "unittest.output_test(returned_value, 3)\n",
        "print('-----------------------------------------')"
      ]
    },
    {
      "cell_type": "markdown",
      "metadata": {
        "id": "XtxbhOhhlUZb"
      },
      "source": [
        "BONUS (Tower of God)"
      ]
    },
    {
      "cell_type": "code",
      "execution_count": null,
      "metadata": {
        "colab": {
          "base_uri": "https://localhost:8080/"
        },
        "id": "K0n5UeZFj_eq",
        "outputId": "da3fd8f8-377c-4e17-b617-45825a04b77f"
      },
      "outputs": [
        {
          "name": "stdout",
          "output_type": "stream",
          "text": [
            "Test 01\n",
            "Stack:\n",
            "| 5  |\n",
            "| 17 |\n",
            "| 23 |\n",
            "| 19 |\n",
            "| 4  |\n",
            "------\n",
            "After Removal\n",
            "| 5  |\n",
            "| 23 |\n",
            "| 19 |\n",
            "| 4  |\n",
            "------\n",
            "\n",
            "======================================\n",
            "\n",
            "Test 02\n",
            "Stack:\n",
            "| 41 |\n",
            "| 15 |\n",
            "| 85 |\n",
            "| 73 |\n",
            "------\n",
            "After Removal\n",
            "| 41 |\n",
            "| 15 |\n",
            "| 73 |\n",
            "------\n",
            "\n",
            "======================================\n",
            "\n"
          ]
        }
      ],
      "source": [
        "def remove_block(st, n):\n",
        "  st2=Stack()\n",
        "  idx=0\n",
        "  while st.isEmpty()!=True:\n",
        "    temp=st.pop()\n",
        "    st2.push(temp)\n",
        "    idx+=1\n",
        "  while st2.isEmpty()!=True:\n",
        "    if idx==n:\n",
        "      temp3=st2.pop()\n",
        "    else:\n",
        "      temp2=st2.pop()\n",
        "      st.push(temp2)\n",
        "    idx-=1\n",
        "print('Test 01')\n",
        "st = Stack()\n",
        "st.push(4)\n",
        "st.push(19)\n",
        "st.push(23)\n",
        "st.push(17)\n",
        "st.push(5)\n",
        "print('Stack:')\n",
        "print_stack(st)\n",
        "print('------')\n",
        "remove_block(st,2)\n",
        "print('After Removal')\n",
        "print_stack(st)\n",
        "print('------')\n",
        "\n",
        "print()\n",
        "print('======================================')\n",
        "print()\n",
        "\n",
        "print('Test 02')\n",
        "st = Stack()\n",
        "st.push(73)\n",
        "st.push(85)\n",
        "st.push(15)\n",
        "st.push(41)\n",
        "print('Stack:')\n",
        "print_stack(st)\n",
        "print('------')\n",
        "remove_block(st,3)\n",
        "print('After Removal')\n",
        "print_stack(st)\n",
        "print('------')\n",
        "\n",
        "print()\n",
        "print('======================================')\n",
        "print()"
      ]
    }
  ],
  "metadata": {
    "colab": {
      "provenance": []
    },
    "kernelspec": {
      "display_name": "Python 3",
      "name": "python3"
    },
    "language_info": {
      "name": "python"
    }
  },
  "nbformat": 4,
  "nbformat_minor": 0
}