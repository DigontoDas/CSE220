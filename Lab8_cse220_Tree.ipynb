{
  "cells": [
    {
      "cell_type": "code",
      "execution_count": null,
      "metadata": {
        "id": "D6vC520OPeTa"
      },
      "outputs": [],
      "source": [
        "class BTNode:\n",
        "  def __init__(self, elem):\n",
        "    self.elem = elem\n",
        "    self.right = None\n",
        "    self.left = None"
      ]
    },
    {
      "cell_type": "code",
      "execution_count": null,
      "metadata": {
        "id": "UDTKlm4-PfNM"
      },
      "outputs": [],
      "source": [
        "def inorder(root):\n",
        "  if root == None:\n",
        "    return\n",
        "\n",
        "  inorder(root.left)\n",
        "  print(root.elem, end = ' ')\n",
        "  inorder(root.right)"
      ]
    },
    {
      "cell_type": "code",
      "execution_count": null,
      "metadata": {
        "colab": {
          "base_uri": "https://localhost:8080/"
        },
        "id": "Rtc22SPzPgzM",
        "outputId": "bccc15c2-946c-48fd-b32d-c0c3c6504d8c"
      },
      "outputs": [
        {
          "output_type": "stream",
          "name": "stdout",
          "text": [
            "H D B E A I F J C G k "
          ]
        }
      ],
      "source": [
        "def tree_construction(arr, i = 1):\n",
        "  if i>=len(arr) or arr[i] == None:\n",
        "    return None\n",
        "  p = BTNode(arr[i])\n",
        "  p.left = tree_construction(arr, 2*i)\n",
        "  p.right = tree_construction(arr, 2*i+1)\n",
        "  return p\n",
        "\n",
        "\n",
        "root2 = tree_construction([None, 'A', 'B', 'C', 'D', 'E', 'F', 'G', 'H', None, None, None, 'I', 'J', None, 'k'])\n",
        "inorder(root2)"
      ]
    },
    {
      "cell_type": "markdown",
      "metadata": {
        "id": "S2nNCJNhPqGq"
      },
      "source": [
        "Task 1"
      ]
    },
    {
      "cell_type": "code",
      "execution_count": null,
      "metadata": {
        "id": "zbBHU3FoPieb",
        "colab": {
          "base_uri": "https://localhost:8080/"
        },
        "outputId": "dff6a13c-77c0-4092-9aeb-ba7be7d79dc0"
      },
      "outputs": [
        {
          "output_type": "stream",
          "name": "stdout",
          "text": [
            "Given Tree Inorder Traversal:  40 20 60 10 30 \n",
            "Mirrored Tree Inorder Traversal:  30 10 60 20 40 "
          ]
        }
      ],
      "source": [
        "def convert_mirror(root):\n",
        "  if root == None:\n",
        "    return None\n",
        "  new_node = BTNode(root.elem)\n",
        "  new_node.left=convert_mirror(root.right)\n",
        "  new_node.right= convert_mirror(root.left)\n",
        "  return new_node\n",
        "#DRIVER CODE\n",
        "root = BTNode(10)\n",
        "n1 = BTNode(20)\n",
        "n2 = BTNode(30)\n",
        "n3 = BTNode(40)\n",
        "n4 = BTNode(60)\n",
        "\n",
        "root.left = n1\n",
        "root.right = n2\n",
        "\n",
        "n1.left = n3\n",
        "n1.right = n4\n",
        "\n",
        "print('Given Tree Inorder Traversal: ', end = ' ')\n",
        "inorder(root) #Given Tree Inorder Traversal:  40 20 60 10 30\n",
        "print()\n",
        "\n",
        "root2 = convert_mirror(root)\n",
        "print('Mirrored Tree Inorder Traversal: ', end = ' ')\n",
        "inorder(root2) #Mirrored Tree Inorder Traversal:  30 10 60 20 40"
      ]
    },
    {
      "cell_type": "markdown",
      "metadata": {
        "id": "c-TBf3m0PrtK"
      },
      "source": [
        "Task 2"
      ]
    },
    {
      "cell_type": "code",
      "execution_count": null,
      "metadata": {
        "id": "lsuxinlBPmji",
        "colab": {
          "base_uri": "https://localhost:8080/"
        },
        "outputId": "45ccc63c-de88-4e7e-8ec3-5adc586953ea"
      },
      "outputs": [
        {
          "output_type": "stream",
          "name": "stdout",
          "text": [
            "Given Tree Inorder Traversal:  3 9 -5 4 2 7 \n",
            "Level Wise Smallest Value:  {0: 4, 1: 2, 2: -5}\n"
          ]
        }
      ],
      "source": [
        "def smallest_level(root):\n",
        "  return min_dic(root,md={},lev=0)\n",
        "def min_dic(rt,md,lev):\n",
        "  if rt==None:\n",
        "    return\n",
        "  else:\n",
        "    if lev not in md:\n",
        "      md[lev]=rt.elem\n",
        "    else:\n",
        "      if md[lev]>rt.elem:\n",
        "        md[lev]=rt.elem\n",
        "    a=min_dic(rt.left,md,lev+1)\n",
        "    b= min_dic(rt.right,md,lev+1)\n",
        "    return md\n",
        "\n",
        "\n",
        "#DRIVER CODE\n",
        "root = tree_construction([None, 4,9,2,3,-5,None,7])\n",
        "print('Given Tree Inorder Traversal: ', end = ' ')\n",
        "inorder(root) #Given Tree Inorder Traversal:  3 9 5 4 2 7\n",
        "print()\n",
        "print('Level Wise Smallest Value: ', end = ' ')\n",
        "print(smallest_level(root)) #Level Wise Smallest Value:  {0: 4, 1: 2, 2: -5}"
      ]
    },
    {
      "cell_type": "markdown",
      "metadata": {
        "id": "7r3lH3aWPz2d"
      },
      "source": [
        "Task 3"
      ]
    },
    {
      "cell_type": "code",
      "execution_count": null,
      "metadata": {
        "id": "zFwP64v4Pu6d",
        "colab": {
          "base_uri": "https://localhost:8080/"
        },
        "outputId": "f3b1857b-b0c7-4394-b155-86d810d267f2"
      },
      "outputs": [
        {
          "output_type": "stream",
          "name": "stdout",
          "text": [
            "Given Tree Inorder Traversal:  4 8 10 12 14 20 22 \n",
            "Inorder predecessor of node 20: 14\n"
          ]
        }
      ],
      "source": [
        "def inorder_predecessor(root, x):\n",
        "  if x.left!=None:\n",
        "    x1=x.left\n",
        "    a=rightmost(x1)\n",
        "    return a\n",
        "  else:\n",
        "    x2=x #14\n",
        "    p=parent(root.left,x) #rt=20 x=14 p=12\n",
        "    if p!=None and p.left==x2:\n",
        "      x=p\n",
        "      p=parent(root.left,p)\n",
        "    return p\n",
        "def rightmost(n):\n",
        "  if n.right==None:\n",
        "    return n\n",
        "  else:\n",
        "    return rightmost(n.right)\n",
        "def parent(rt,child,par=root):\n",
        "  if rt==None:\n",
        "    return\n",
        "  if rt==child: #rt=10 ch=14\n",
        "    return par\n",
        "  else:\n",
        "    a=parent(rt.left,child,rt)\n",
        "    a=parent(rt.right,child,rt) #rt.left=10 ch=14 rt=12\n",
        "    if a==None:\n",
        "      return root #one bug here cant solve for the right subtree\n",
        "    return a\n",
        "#DRIVER CODE\n",
        "root = BTNode(20)\n",
        "n1 = BTNode(8)\n",
        "n2 = BTNode(22)\n",
        "n3 = BTNode(4)\n",
        "n4 = BTNode(12)\n",
        "n5 = BTNode(10)\n",
        "n6 = BTNode(14)\n",
        "\n",
        "root.left = n1\n",
        "root.right = n2\n",
        "\n",
        "n1.left = n3\n",
        "n1.right = n4\n",
        "\n",
        "n4.left = n5\n",
        "n4.right = n6\n",
        "\n",
        "print('Given Tree Inorder Traversal: ', end = ' ')\n",
        "inorder(root) #Given Tree Inorder Traversal:  4 8 10 12 14 20 22\n",
        "print()\n",
        "\n",
        "x = root\n",
        "print(f'Inorder predecessor of node {x.elem}: {inorder_predecessor(root, x).elem}') #Inorder predecessor of node 20: 14"
      ]
    },
    {
      "cell_type": "markdown",
      "metadata": {
        "id": "t3IGW4OaP8Vy"
      },
      "source": [
        "Task 4"
      ]
    },
    {
      "cell_type": "code",
      "execution_count": null,
      "metadata": {
        "id": "d1A-tR7hP2fI",
        "colab": {
          "base_uri": "https://localhost:8080/"
        },
        "outputId": "24863858-ccd2-4b5e-a370-e5139ef729e8"
      },
      "outputs": [
        {
          "output_type": "stream",
          "name": "stdout",
          "text": [
            "Given Tree Inorder Traversal:  6 8 9 10 12 15 18 20 22 25 30 \n",
            "LCA(6,12)= 10\n",
            "LCA(20,6)= 15\n",
            "LCA(18,22)= 20\n",
            "LCA(20,25)= 25\n",
            "LCA(10,12)= 10\n"
          ]
        }
      ],
      "source": [
        "def LCA(root, x, y):\n",
        "  if root==None:\n",
        "    return\n",
        "  else:\n",
        "    a=LCA(root.left,x,y)\n",
        "    b=LCA(root.right,x,y)\n",
        "    if root.elem==x or root.elem==y:\n",
        "      return root\n",
        "    elif a==None and b==None:\n",
        "      return\n",
        "    elif a==None:\n",
        "       return b\n",
        "    elif b==None:\n",
        "      return a\n",
        "    return root\n",
        "\n",
        "\n",
        "#DRIVER CODE\n",
        "root = BTNode(15)\n",
        "n1 = BTNode(10)\n",
        "n2 = BTNode(25)\n",
        "n3 = BTNode(8)\n",
        "n4 = BTNode(12)\n",
        "n5 = BTNode(20)\n",
        "n6 = BTNode(30)\n",
        "n7 = BTNode(6)\n",
        "n8 = BTNode(9)\n",
        "n9 = BTNode(18)\n",
        "n10 = BTNode(22)\n",
        "\n",
        "root.left = n1\n",
        "root.right = n2\n",
        "\n",
        "n2.right=n6\n",
        "n2.left=n5\n",
        "\n",
        "n5.left=n9\n",
        "n5.right=n10\n",
        "\n",
        "n1.left = n3\n",
        "n1.right = n4\n",
        "\n",
        "n3.left = n7\n",
        "n3.right = n8\n",
        "print('Given Tree Inorder Traversal: ', end = ' ')\n",
        "inorder(root) #Given Tree Inorder Traversal:  4 8 10 12 14 20 22\n",
        "print()\n",
        "\n",
        "print(f\"LCA(6,12)= {LCA(root,6,12).elem}\")\n",
        "print(f\"LCA(20,6)= {LCA(root,20,6).elem}\")\n",
        "print(f\"LCA(18,22)= {LCA(root,18,22).elem}\")\n",
        "print(f\"LCA(20,25)= {LCA(root,20,25).elem}\")\n",
        "print(f\"LCA(10,12)= {LCA(root,10,12).elem}\")\n",
        "#Write by yourself from the given tree\n",
        "#check all the sample inputs given"
      ]
    },
    {
      "cell_type": "markdown",
      "source": [
        "BONUS TASK 1"
      ],
      "metadata": {
        "id": "T3Pimbw_PLHY"
      }
    },
    {
      "cell_type": "code",
      "execution_count": null,
      "metadata": {
        "id": "m4E9_E8PThk6",
        "colab": {
          "base_uri": "https://localhost:8080/"
        },
        "outputId": "5e806a56-591d-4686-8530-8f9f97da41d8"
      },
      "outputs": [
        {
          "output_type": "stream",
          "name": "stdout",
          "text": [
            "True\n"
          ]
        }
      ],
      "source": [
        "def SumTree(rt):\n",
        "  if Sum(rt)==rt.elem:\n",
        "    return True\n",
        "  else:\n",
        "    return False\n",
        "def Sum(root,sum=0):\n",
        "  if root==None:\n",
        "    return 0\n",
        "  else:\n",
        "    sum+=Sum(root.left)+Sum(root.right)\n",
        "    return root.elem\n",
        "\n",
        "# DRIVER CODE\n",
        "root = BTNode(26)\n",
        "n1 = BTNode(10)\n",
        "n2 = BTNode(3)\n",
        "n3 = BTNode(4)\n",
        "n4 = BTNode(6)\n",
        "n5 = BTNode(3)\n",
        "\n",
        "root.left=n1\n",
        "root.right=n2\n",
        "n1.left=n3\n",
        "n1.right=n4\n",
        "n2.right=n5\n",
        "\n",
        "print(SumTree(root))\n"
      ]
    },
    {
      "cell_type": "markdown",
      "metadata": {
        "id": "SBD-0xoZP_ni"
      },
      "source": [
        "Bonus Task 2"
      ]
    },
    {
      "cell_type": "code",
      "source": [
        "#WRITE THE FUNCTION BY YOURSELF\n",
        "def difflevelSum(root,mainrt,sum=0):\n",
        "  if root==None:\n",
        "    return 0\n",
        "  else:\n",
        "    level=getLevel(mainrt,root.elem)\n",
        "    if level%2!=0:\n",
        "      sum-=root.elem\n",
        "    else:\n",
        "      sum+=root.elem\n",
        "    a=difflevelSum(root.left,mainrt,sum)\n",
        "    a=difflevelSum(root.right,mainrt,sum)\n",
        "    if (a != 0):\n",
        "        return a\n",
        "    return sum\n",
        "\n",
        "\n",
        "\n",
        "def getLevel(node, data, level=0):\n",
        "    if (node == None):\n",
        "        return 0\n",
        "    if (node.elem == data):\n",
        "        return level\n",
        "    a = getLevel(node.left,data, level + 1)\n",
        "    if (a != 0):\n",
        "        return a\n",
        "    a = getLevel(node.right,data, level + 1)\n",
        "    return a\n",
        "\n",
        "#DRIVER CODE\n",
        "root = BTNode(1)\n",
        "n2 = BTNode(2)\n",
        "n3 = BTNode(3)\n",
        "n4 = BTNode(4)\n",
        "n5 = BTNode(5)\n",
        "n6 = BTNode(6)\n",
        "n7 = BTNode(7)\n",
        "n8 = BTNode(8)\n",
        "root.left = n2\n",
        "root.right = n3\n",
        "\n",
        "n2.left = n4\n",
        "n3.left = n5\n",
        "n3.right = n6\n",
        "n5.left = n7\n",
        "n5.right = n8\n",
        "print(difflevelSum(root,root))"
      ],
      "metadata": {
        "id": "U_LYhaRIxZCb",
        "colab": {
          "base_uri": "https://localhost:8080/"
        },
        "outputId": "a88f9760-e933-4438-ab95-cbdb07d77489"
      },
      "execution_count": null,
      "outputs": [
        {
          "output_type": "stream",
          "name": "stdout",
          "text": [
            "4\n"
          ]
        }
      ]
    }
  ],
  "metadata": {
    "colab": {
      "provenance": []
    },
    "kernelspec": {
      "display_name": "Python 3",
      "name": "python3"
    },
    "language_info": {
      "name": "python"
    }
  },
  "nbformat": 4,
  "nbformat_minor": 0
}