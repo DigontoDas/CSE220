{
  "nbformat": 4,
  "nbformat_minor": 0,
  "metadata": {
    "colab": {
      "provenance": []
    },
    "kernelspec": {
      "name": "python3",
      "display_name": "Python 3"
    },
    "language_info": {
      "name": "python"
    }
  },
  "cells": [
    {
      "cell_type": "code",
      "execution_count": null,
      "metadata": {
        "id": "0bx5Yyov6Uu7"
      },
      "outputs": [],
      "source": [
        "class Patient:\n",
        "  def __init__(self, id, name, age, bg, next = None, prev = None):\n",
        "    self.id = id\n",
        "    self.name = name\n",
        "    self.age = age\n",
        "    self.blood = bg\n",
        "\n",
        "    self.next = next\n",
        "    self.prev = prev\n",
        "\n",
        "class WRM:\n",
        "  def __init__(self):\n",
        "    self.dummy=Patient(0,None,0,None) #dummy\n",
        "    self.dummy.next=self.dummy\n",
        "    self.dummy.prev=self.dummy\n",
        "\n",
        "  def RegisterPatient(self,id,name,age,bloodgroup): #createlinkedlist\n",
        "    new_patient=Patient(id,name,age,bloodgroup)\n",
        "    temp=self.dummy\n",
        "    temp.prev = new_patient\n",
        "    new_patient.next = temp\n",
        "    if temp.next!=self.dummy:\n",
        "      tail=temp.next\n",
        "      while tail!=temp:\n",
        "        if tail.next==temp:\n",
        "          new_patient.prev=temp\n",
        "          temp.next=new_patient\n",
        "          break\n",
        "        tail=tail.next\n",
        "    else:\n",
        "      temp.next=new_patient\n",
        "      new_patient.prev=temp\n",
        "    print(\"Patient added successfully\")\n",
        "\n",
        "\n",
        "\n",
        "  def ServePatient(self): #Remove\n",
        "    temp1=self.dummy\n",
        "    temp2=self.dummy.next\n",
        "    if temp2.next!=self.dummy:\n",
        "      temp1.next=temp2.next\n",
        "      temp2.next.prev=temp1\n",
        "      temp2.next=None\n",
        "      temp2.prev=None\n",
        "\n",
        "    else:\n",
        "      temp2.next=None\n",
        "      temp2.prev=None\n",
        "      temp1.next=temp1\n",
        "      temp1.prev=temp1\n",
        "    print(f\"The Patient {temp2.name} has been served\")\n",
        "  def CancelAll(self):\n",
        "    temp=self.dummy\n",
        "    temp.next=temp\n",
        "    temp.prev=temp\n",
        "    print(\"All appointments cancelled. Doctor can go to lunch now\")\n",
        "  def CanDoctorGoHome(self):\n",
        "    temp=self.dummy\n",
        "    if temp.prev == self.dummy and temp.next == self.dummy:\n",
        "      return False\n",
        "    return True\n",
        "  def ShowAllPatient(self): #traverse\n",
        "    temp = self.dummy.next\n",
        "    while temp != self.dummy:\n",
        "      print(temp.name, end = \" \")\n",
        "      temp = temp.next\n",
        "    print(\"\")\n",
        "\n",
        "    print(\"\")\n",
        "  def ReverseTheLine(self):\n",
        "    temp1=self.dummy.next\n",
        "    temp2=self.dummy.prev\n",
        "    while temp1!=temp2:\n",
        "      temp1.id, temp2.id = temp2.id, temp1.id\n",
        "      temp1.name, temp2.name = temp2.name, temp1.name\n",
        "      temp1.age, temp2.age = temp2.age, temp1.age\n",
        "      temp1.blood, temp2.blood = temp2.blood, temp1.blood\n",
        "      temp1=temp1.next\n",
        "      temp2=temp2.prev\n",
        "\n",
        "\n",
        "\n"
      ]
    },
    {
      "cell_type": "markdown",
      "source": [
        "Tester Code"
      ],
      "metadata": {
        "id": "lyjxuwfVjUBJ"
      }
    },
    {
      "cell_type": "code",
      "source": [
        "w = WRM()\n",
        "while(True):\n",
        "    print('Choose an option: (1,2,3... pick a number)\\n')\n",
        "    print('1 - Register a patient.')\n",
        "    print('2 - Serve a patient.')\n",
        "    print('3 - Cancel all apointment')\n",
        "    print('4 - Check if doc can go home')\n",
        "    print('5 - Show all patient.')\n",
        "    print('6 - Reverse the line.')\n",
        "    print('7 - To Exit.')\n",
        "\n",
        "    x = input(\"\\nEnter your choice: \\n\")\n",
        "\n",
        "    if not x.isdigit():\n",
        "        print('\\nInvalid option.\\n')\n",
        "        continue\n",
        "\n",
        "    elif int(x) == 1:\n",
        "        print(\"\\nexecuting RegisterPatient()......\\n\")\n",
        "        id = input('Enter ID: ')\n",
        "        name = input('Enter Name: ')\n",
        "        age = input('Enter Age: ')\n",
        "        bloodgroup = input('Enter Blood Group: ')\n",
        "\n",
        "        w.RegisterPatient(id, name, age, bloodgroup)\n",
        "\n",
        "    elif int(x) == 2:\n",
        "        print(\"\\nexecuting ServePatient()......\")\n",
        "        w.ServePatient()\n",
        "    elif int(x) == 3:\n",
        "        print(\"\\nexecuting CancelAll()......\")\n",
        "        w.CancelAll()\n",
        "    elif int(x) == 4:\n",
        "        print(\"\\nexecuting CanDoctorGoHome()......\")\n",
        "        if w.CanDoctorGoHome():\n",
        "          print(\"\\nYes, doctor can go home.\\n\")\n",
        "        else:\n",
        "          print(\"\\nNo doctor cannot go home.\\n\")\n",
        "    elif int(x) == 5:\n",
        "        print(\"\\nexecuting ShowAllPatient()......\")\n",
        "        w.ShowAllPatient()\n",
        "    elif int(x) == 6:\n",
        "        print(\"\\nexecuting ReverseTheLine()......\")\n",
        "        w.ReverseTheLine()\n",
        "    elif int(x) == 7:\n",
        "        print(\"\\nThank you for using Waiting Room Management System\\n\")\n",
        "        break\n",
        "    else:\n",
        "        print('\\nInvalid option.\\n')\n",
        "        continue"
      ],
      "metadata": {
        "id": "woqlsKK_xYfk",
        "colab": {
          "base_uri": "https://localhost:8080/"
        },
        "outputId": "88c8c43e-09a0-4e1c-a4d8-796ac4b29264"
      },
      "execution_count": null,
      "outputs": [
        {
          "output_type": "stream",
          "name": "stdout",
          "text": [
            "Choose an option: (1,2,3... pick a number)\n",
            "\n",
            "1 - Register a patient.\n",
            "2 - Serve a patient.\n",
            "3 - Cancel all apointment\n",
            "4 - Check if doc can go home\n",
            "5 - Show all patient.\n",
            "6 - Reverse the line.\n",
            "7 - To Exit.\n"
          ]
        }
      ]
    }
  ]
}